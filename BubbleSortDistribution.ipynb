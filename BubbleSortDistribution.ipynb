{
  "nbformat": 4,
  "nbformat_minor": 0,
  "metadata": {
    "colab": {
      "name": "BubbleSortDistribution.ipynb",
      "provenance": [],
      "collapsed_sections": []
    },
    "kernelspec": {
      "name": "python3",
      "display_name": "Python 3"
    }
  },
  "cells": [
    {
      "cell_type": "code",
      "metadata": {
        "id": "fo5BuXzjIPgP"
      },
      "source": [
        "import itertools as iter\n",
        "import random\n",
        "import matplotlib.pyplot as plt\n",
        "import numpy as np\n",
        "%matplotlib inline\n",
        "#global t\n",
        "\n",
        "def bubbleSort(v):\n",
        "  pasos = 0#len(v)-1\n",
        "  for i in range(len(v)):\n",
        "    for j in range(len(v)-1,i,-1):\n",
        "      if v[j]<v[j-1]:\n",
        "        temp = v[j-1]\n",
        "        v[j-1] = v[j]\n",
        "        v[j] = temp\n",
        "        pasos += 1\n",
        "      pasos += 1\n",
        "\n",
        "  return pasos\n",
        "v = [1,2,3]\n",
        "#print(bubbleSort(v))\n",
        "\n",
        "def perm(v):\n",
        "  t=[]\n",
        "  x = range(1,v+1)\n",
        "  list(x)\n",
        "  permuta = iter.permutations(x)\n",
        "  for i in permuta:\n",
        "    xx = list(i)\n",
        "    t.append(xx)\n",
        "  return t\n",
        "def grafi(v):\n",
        "  lista3 =[]\n",
        "\n",
        "  lista =[0]*51\n",
        "  promedio = 0\n",
        "  for i in (v):\n",
        "    k = bubbleSort(i)\n",
        "    lista[k]+=1\n",
        "    promedio+=k\n",
        "    lista3.append(k)\n",
        "  print(\"El promedio del numero de pasos es : \",promedio/len(v))\n",
        "  lista2=[]\n",
        "  lista4=[]\n",
        "\n",
        "  for j in range(len(lista)):\n",
        "    if lista[j]!=0 :\n",
        "      lista2.append(lista[j]/len(v))\n",
        "      lista4.append(j)\n",
        "      print(\"P(\",j,\") = \",lista[j]/len(v))\n",
        "\n",
        "  height = lista2\n",
        "  bars = lista4\n",
        "  y_pos = np.arange(len(bars))\n",
        " \n",
        "# Create bars\n",
        "  plt.bar(y_pos, height)\n",
        " \n",
        "# Create names on the x-axis\n",
        "  plt.xticks(y_pos, bars)\n",
        " \n",
        "# Show graphic\n",
        "  plt.show()"
      ],
      "execution_count": 3,
      "outputs": []
    },
    {
      "cell_type": "code",
      "metadata": {
        "colab": {
          "base_uri": "https://localhost:8080/",
          "height": 656
        },
        "id": "IgeW3ZZfggT-",
        "outputId": "3673323b-6897-42b2-fef7-d751e9ac5145"
      },
      "source": [
        "grafi(perm(7))"
      ],
      "execution_count": 6,
      "outputs": [
        {
          "output_type": "stream",
          "text": [
            "El promedio del numero de pasos es :  31.5\n",
            "P( 21 ) =  0.0001984126984126984\n",
            "P( 22 ) =  0.0011904761904761906\n",
            "P( 23 ) =  0.003968253968253968\n",
            "P( 24 ) =  0.009722222222222222\n",
            "P( 25 ) =  0.019444444444444445\n",
            "P( 26 ) =  0.03353174603174603\n",
            "P( 27 ) =  0.05138888888888889\n",
            "P( 28 ) =  0.07123015873015873\n",
            "P( 29 ) =  0.09027777777777778\n",
            "P( 30 ) =  0.10535714285714286\n",
            "P( 31 ) =  0.11369047619047619\n",
            "P( 32 ) =  0.11369047619047619\n",
            "P( 33 ) =  0.10535714285714286\n",
            "P( 34 ) =  0.09027777777777778\n",
            "P( 35 ) =  0.07123015873015873\n",
            "P( 36 ) =  0.05138888888888889\n",
            "P( 37 ) =  0.03353174603174603\n",
            "P( 38 ) =  0.019444444444444445\n",
            "P( 39 ) =  0.009722222222222222\n",
            "P( 40 ) =  0.003968253968253968\n",
            "P( 41 ) =  0.0011904761904761906\n",
            "P( 42 ) =  0.0001984126984126984\n"
          ],
          "name": "stdout"
        },
        {
          "output_type": "display_data",
          "data": {
            "image/png": "[encoded data removed]",
            "text/plain": [
              "<Figure size 432x288 with 1 Axes>"
            ]
          },
          "metadata": {
            "tags": [],
            "needs_background": "light"
          }
        }
      ]
    },
    {
      "cell_type": "code",
      "metadata": {
        "id": "VwK8Og1X6NTw"
      },
      "source": [
        ""
      ],
      "execution_count": null,
      "outputs": []
    }
  ]
}